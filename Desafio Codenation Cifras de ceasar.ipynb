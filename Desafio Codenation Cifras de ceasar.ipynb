{
  "nbformat": 4,
  "nbformat_minor": 0,
  "metadata": {
    "colab": {
      "name": "Untitled14.ipynb",
      "provenance": [],
      "collapsed_sections": [],
      "authorship_tag": "ABX9TyMmSdjxL0bFJht0lK37q3l7",
      "include_colab_link": true
    },
    "kernelspec": {
      "name": "python3",
      "display_name": "Python 3"
    }
  },
  "cells": [
    {
      "cell_type": "markdown",
      "metadata": {
        "id": "view-in-github",
        "colab_type": "text"
      },
      "source": [
        "<a href=\"https://colab.research.google.com/github/dremeloke/Bruno_Araujo/blob/master/Desafio%20Codenation%20Cifras%20de%20ceasar.ipynb\" target=\"_parent\"><img src=\"https://colab.research.google.com/assets/colab-badge.svg\" alt=\"Open In Colab\"/></a>"
      ]
    },
    {
      "cell_type": "code",
      "metadata": {
        "id": "nCekVkCTJui7",
        "colab_type": "code",
        "outputId": "38bdbb18-4cae-46f6-db42-882662b07f23",
        "colab": {
          "base_uri": "https://localhost:8080/",
          "height": 55
        }
      },
      "source": [
        "import json\n",
        "arquivo = open('answer.json', \"r\")\n",
        "dados_json = json.load(arquivo)\n",
        "msg = dados_json['cifrado']\n",
        "arquivo.close()\n",
        "print(msg)\n",
        "\n",
        "\n",
        "\n"
      ],
      "execution_count": 0,
      "outputs": [
        {
          "output_type": "stream",
          "text": [
            "bpm jmab xmznwzuivkm quxzwdmumvb qa bpm bzivaqbqwv nzwu bpm vwvewzsqvo abibm bw bpm ewzsqvo abibm. rwpv wcabmzpwcb\n"
          ],
          "name": "stdout"
        }
      ]
    },
    {
      "cell_type": "code",
      "metadata": {
        "id": "mkFSIdNrZE-Y",
        "colab_type": "code",
        "outputId": "d5387058-f2a1-4358-85b0-000ecb94c33c",
        "colab": {
          "base_uri": "https://localhost:8080/",
          "height": 74
        }
      },
      "source": [
        "L2I = dict(zip(\"abcdefghijklmnopqrstuvwxyz\",range(26)))\n",
        "I2L = dict(zip(range(26),\"abcdefghijklmnopqrstuvwxyz\"))\n",
        "\n",
        "key = 8\n",
        "plaintext = msg\n",
        "\n",
        "# defipher\n",
        "ciphertext = \"\"\n",
        "for c in plaintext.lower():\n",
        "    if c.isalpha(): ciphertext += I2L[ (L2I[c] - key)%26 ]\n",
        "    else: ciphertext += c\n",
        "\n",
        "# encipher\n",
        "plaintext2 = \"\"\n",
        "for c in ciphertext.lower():\n",
        "    if c.isalpha(): plaintext2 += I2L[ (L2I[c] + key)%26 ]\n",
        "    else: plaintext2 += c\n",
        "\n",
        "print (plaintext)\n",
        "print (ciphertext)\n",
        "\n",
        "\n",
        "\n"
      ],
      "execution_count": 0,
      "outputs": [
        {
          "output_type": "stream",
          "text": [
            "bpm jmab xmznwzuivkm quxzwdmumvb qa bpm bzivaqbqwv nzwu bpm vwvewzsqvo abibm bw bpm ewzsqvo abibm. rwpv wcabmzpwcb\n",
            "the best performance improvement is the transition from the nonworking state to the working state. john ousterhout\n"
          ],
          "name": "stdout"
        }
      ]
    }
  ]
}